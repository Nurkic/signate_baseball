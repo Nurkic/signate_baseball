{
 "cells": [
  {
   "cell_type": "markdown",
   "metadata": {},
   "source": [
    "## EDA"
   ]
  },
  {
   "cell_type": "markdown",
   "metadata": {},
   "source": [
    "前回 議事録より\n",
    "\n",
    "・\tとりあえず「球種予測」「コース予測」同時並行で進めていく\n",
    "・\t言語：python\n",
    "・\tコードの保持形式：適宜\n",
    "・\t連絡 + コードの共有：LINE + github\n",
    "\n",
    "◉次回までにやること\n",
    "データの基礎分析を進める期間は5月いっぱいで、6月第１週に情報共有\n",
    "\n",
    "・\t石川：球場の条件別\n",
    "・\t田村：試合の状況別\n",
    "・\t木村：時間単位の状況別\n"
   ]
  },
  {
   "cell_type": "code",
   "execution_count": 46,
   "metadata": {},
   "outputs": [],
   "source": [
    "import pandas as pd\n",
    "import japanize_matplotlib"
   ]
  },
  {
   "cell_type": "code",
   "execution_count": 47,
   "metadata": {},
   "outputs": [],
   "source": [
    "train_pitch = pd.read_csv(\"../input/train_pitch.csv\")\n",
    "test_pitch = pd.read_csv(\"../input/test_pitch.csv\")"
   ]
  },
  {
   "cell_type": "code",
   "execution_count": 48,
   "metadata": {},
   "outputs": [],
   "source": [
    "import json\n",
    "\n",
    "with open(\"../input/names_pitch.json\", \"r\", encoding=\"utf-8\") as f:\n",
    "     d = json.load(f)\n",
    "\n",
    "train_pitch = train_pitch.rename(columns=d)\n",
    "test_pitch = test_pitch.rename(columns=d)"
   ]
  },
  {
   "cell_type": "markdown",
   "metadata": {},
   "source": [
    "## data size"
   ]
  },
  {
   "cell_type": "code",
   "execution_count": 49,
   "metadata": {},
   "outputs": [
    {
     "data": {
      "text/plain": [
       "((257117, 51), (521650, 49))"
      ]
     },
     "execution_count": 49,
     "metadata": {},
     "output_type": "execute_result"
    }
   ],
   "source": [
    "train_pitch.shape, test_pitch.shape"
   ]
  },
  {
   "cell_type": "code",
   "execution_count": 50,
   "metadata": {},
   "outputs": [
    {
     "data": {
      "text/html": [
       "<div>\n",
       "<style scoped>\n",
       "    .dataframe tbody tr th:only-of-type {\n",
       "        vertical-align: middle;\n",
       "    }\n",
       "\n",
       "    .dataframe tbody tr th {\n",
       "        vertical-align: top;\n",
       "    }\n",
       "\n",
       "    .dataframe thead th {\n",
       "        text-align: right;\n",
       "    }\n",
       "</style>\n",
       "<table border=\"1\" class=\"dataframe\">\n",
       "  <thead>\n",
       "    <tr style=\"text-align: right;\">\n",
       "      <th></th>\n",
       "      <th>index</th>\n",
       "      <th>pitch_type</th>\n",
       "      <th>pitch_zone</th>\n",
       "      <th>year</th>\n",
       "      <th>game_ID</th>\n",
       "      <th>game_index</th>\n",
       "      <th>pitchs_in_game</th>\n",
       "      <th>date</th>\n",
       "      <th>time</th>\n",
       "      <th>home_ID</th>\n",
       "      <th>...</th>\n",
       "      <th>catcher_ID</th>\n",
       "      <th>first_ID</th>\n",
       "      <th>second_ID</th>\n",
       "      <th>thied_ID</th>\n",
       "      <th>short_ID</th>\n",
       "      <th>left_ID</th>\n",
       "      <th>center_ID</th>\n",
       "      <th>right_ID</th>\n",
       "      <th>graded_pitcher_ID</th>\n",
       "      <th>graded_batter_ID</th>\n",
       "    </tr>\n",
       "  </thead>\n",
       "  <tbody>\n",
       "    <tr>\n",
       "      <th>0</th>\n",
       "      <td>0</td>\n",
       "      <td>0</td>\n",
       "      <td>0</td>\n",
       "      <td>2017</td>\n",
       "      <td>2017033101</td>\n",
       "      <td>1</td>\n",
       "      <td>1</td>\n",
       "      <td>2017-03-31</td>\n",
       "      <td>18:03:00</td>\n",
       "      <td>1</td>\n",
       "      <td>...</td>\n",
       "      <td>1300027</td>\n",
       "      <td>12049</td>\n",
       "      <td>800002</td>\n",
       "      <td>1200136</td>\n",
       "      <td>700003</td>\n",
       "      <td>1400101</td>\n",
       "      <td>900093</td>\n",
       "      <td>900397</td>\n",
       "      <td>1500001</td>\n",
       "      <td>900410</td>\n",
       "    </tr>\n",
       "    <tr>\n",
       "      <th>1</th>\n",
       "      <td>1</td>\n",
       "      <td>0</td>\n",
       "      <td>8</td>\n",
       "      <td>2017</td>\n",
       "      <td>2017033101</td>\n",
       "      <td>2</td>\n",
       "      <td>2</td>\n",
       "      <td>2017-03-31</td>\n",
       "      <td>18:03:12</td>\n",
       "      <td>1</td>\n",
       "      <td>...</td>\n",
       "      <td>1300027</td>\n",
       "      <td>12049</td>\n",
       "      <td>800002</td>\n",
       "      <td>1200136</td>\n",
       "      <td>700003</td>\n",
       "      <td>1400101</td>\n",
       "      <td>900093</td>\n",
       "      <td>900397</td>\n",
       "      <td>1500001</td>\n",
       "      <td>900410</td>\n",
       "    </tr>\n",
       "    <tr>\n",
       "      <th>2</th>\n",
       "      <td>2</td>\n",
       "      <td>0</td>\n",
       "      <td>5</td>\n",
       "      <td>2017</td>\n",
       "      <td>2017033101</td>\n",
       "      <td>3</td>\n",
       "      <td>3</td>\n",
       "      <td>2017-03-31</td>\n",
       "      <td>18:03:23</td>\n",
       "      <td>1</td>\n",
       "      <td>...</td>\n",
       "      <td>1300027</td>\n",
       "      <td>12049</td>\n",
       "      <td>800002</td>\n",
       "      <td>1200136</td>\n",
       "      <td>700003</td>\n",
       "      <td>1400101</td>\n",
       "      <td>900093</td>\n",
       "      <td>900397</td>\n",
       "      <td>1500001</td>\n",
       "      <td>900410</td>\n",
       "    </tr>\n",
       "    <tr>\n",
       "      <th>3</th>\n",
       "      <td>3</td>\n",
       "      <td>0</td>\n",
       "      <td>12</td>\n",
       "      <td>2017</td>\n",
       "      <td>2017033101</td>\n",
       "      <td>4</td>\n",
       "      <td>4</td>\n",
       "      <td>2017-03-31</td>\n",
       "      <td>18:04:01</td>\n",
       "      <td>1</td>\n",
       "      <td>...</td>\n",
       "      <td>1300027</td>\n",
       "      <td>12049</td>\n",
       "      <td>800002</td>\n",
       "      <td>1200136</td>\n",
       "      <td>700003</td>\n",
       "      <td>1400101</td>\n",
       "      <td>900093</td>\n",
       "      <td>900397</td>\n",
       "      <td>1500001</td>\n",
       "      <td>11436</td>\n",
       "    </tr>\n",
       "    <tr>\n",
       "      <th>4</th>\n",
       "      <td>4</td>\n",
       "      <td>0</td>\n",
       "      <td>8</td>\n",
       "      <td>2017</td>\n",
       "      <td>2017033101</td>\n",
       "      <td>5</td>\n",
       "      <td>5</td>\n",
       "      <td>2017-03-31</td>\n",
       "      <td>18:04:12</td>\n",
       "      <td>1</td>\n",
       "      <td>...</td>\n",
       "      <td>1300027</td>\n",
       "      <td>12049</td>\n",
       "      <td>800002</td>\n",
       "      <td>1200136</td>\n",
       "      <td>700003</td>\n",
       "      <td>1400101</td>\n",
       "      <td>900093</td>\n",
       "      <td>900397</td>\n",
       "      <td>1500001</td>\n",
       "      <td>11436</td>\n",
       "    </tr>\n",
       "  </tbody>\n",
       "</table>\n",
       "<p>5 rows × 51 columns</p>\n",
       "</div>"
      ],
      "text/plain": [
       "   index  pitch_type  pitch_zone  year     game_ID  game_index  \\\n",
       "0      0           0           0  2017  2017033101           1   \n",
       "1      1           0           8  2017  2017033101           2   \n",
       "2      2           0           5  2017  2017033101           3   \n",
       "3      3           0          12  2017  2017033101           4   \n",
       "4      4           0           8  2017  2017033101           5   \n",
       "\n",
       "   pitchs_in_game        date      time  home_ID  ...  catcher_ID  first_ID  \\\n",
       "0               1  2017-03-31  18:03:00        1  ...     1300027     12049   \n",
       "1               2  2017-03-31  18:03:12        1  ...     1300027     12049   \n",
       "2               3  2017-03-31  18:03:23        1  ...     1300027     12049   \n",
       "3               4  2017-03-31  18:04:01        1  ...     1300027     12049   \n",
       "4               5  2017-03-31  18:04:12        1  ...     1300027     12049   \n",
       "\n",
       "  second_ID thied_ID  short_ID  left_ID  center_ID  right_ID  \\\n",
       "0    800002  1200136    700003  1400101     900093    900397   \n",
       "1    800002  1200136    700003  1400101     900093    900397   \n",
       "2    800002  1200136    700003  1400101     900093    900397   \n",
       "3    800002  1200136    700003  1400101     900093    900397   \n",
       "4    800002  1200136    700003  1400101     900093    900397   \n",
       "\n",
       "   graded_pitcher_ID  graded_batter_ID  \n",
       "0            1500001            900410  \n",
       "1            1500001            900410  \n",
       "2            1500001            900410  \n",
       "3            1500001             11436  \n",
       "4            1500001             11436  \n",
       "\n",
       "[5 rows x 51 columns]"
      ]
     },
     "execution_count": 50,
     "metadata": {},
     "output_type": "execute_result"
    }
   ],
   "source": [
    "train_pitch.head()"
   ]
  },
  {
   "cell_type": "code",
   "execution_count": 51,
   "metadata": {},
   "outputs": [
    {
     "data": {
      "text/plain": [
       "Index(['index', 'pitch_type', 'pitch_zone', 'year', 'game_ID', 'game_index',\n",
       "       'pitchs_in_game', 'date', 'time', 'home_ID', 'away_ID', 'park_ID',\n",
       "       'park', 'game_type', 'inning', 'top_or_bottom', 'AB_in_inning',\n",
       "       'pitchs_in_PA', 'pitcher_ID', 'pitcher_team_ID', 'pitch',\n",
       "       'pitcher_type', 'pitcher_order', 'batter_in_game',\n",
       "       'pitcher_pitchs_in_game', 'pitchs_in_inning', 'batter_ID',\n",
       "       'batter_team_ID', 'bat_in_PA', 'batter_order', 'position',\n",
       "       'batter_AB_in_game', 'home_runs_before_play', 'away_runs_before_play',\n",
       "       'outs_before_play', 'balls_before_play', 'strikes_before_play',\n",
       "       'runners_before_play', 'first_runner_ID', 'second_runner_ID',\n",
       "       'third_runner_ID', 'catcher_ID', 'first_ID', 'second_ID', 'thied_ID',\n",
       "       'short_ID', 'left_ID', 'center_ID', 'right_ID', 'graded_pitcher_ID',\n",
       "       'graded_batter_ID'],\n",
       "      dtype='object')"
      ]
     },
     "execution_count": 51,
     "metadata": {},
     "output_type": "execute_result"
    }
   ],
   "source": [
    "train_pitch.columns"
   ]
  },
  {
   "cell_type": "markdown",
   "metadata": {},
   "source": [
    "## Check column types "
   ]
  },
  {
   "cell_type": "code",
   "execution_count": 52,
   "metadata": {},
   "outputs": [
    {
     "data": {
      "text/plain": [
       "index                       int64\n",
       "pitch_type                  int64\n",
       "pitch_zone                  int64\n",
       "year                        int64\n",
       "game_ID                     int64\n",
       "game_index                  int64\n",
       "pitchs_in_game              int64\n",
       "date                       object\n",
       "time                       object\n",
       "home_ID                     int64\n",
       "away_ID                     int64\n",
       "park_ID                     int64\n",
       "park                       object\n",
       "game_type                  object\n",
       "inning                      int64\n",
       "top_or_bottom              object\n",
       "AB_in_inning                int64\n",
       "pitchs_in_PA                int64\n",
       "pitcher_ID                  int64\n",
       "pitcher_team_ID             int64\n",
       "pitch                      object\n",
       "pitcher_type               object\n",
       "pitcher_order               int64\n",
       "batter_in_game              int64\n",
       "pitcher_pitchs_in_game      int64\n",
       "pitchs_in_inning            int64\n",
       "batter_ID                   int64\n",
       "batter_team_ID              int64\n",
       "bat_in_PA                  object\n",
       "batter_order                int64\n",
       "position                   object\n",
       "batter_AB_in_game           int64\n",
       "home_runs_before_play       int64\n",
       "away_runs_before_play       int64\n",
       "outs_before_play            int64\n",
       "balls_before_play           int64\n",
       "strikes_before_play         int64\n",
       "runners_before_play        object\n",
       "first_runner_ID           float64\n",
       "second_runner_ID          float64\n",
       "third_runner_ID           float64\n",
       "catcher_ID                  int64\n",
       "first_ID                    int64\n",
       "second_ID                   int64\n",
       "thied_ID                    int64\n",
       "short_ID                    int64\n",
       "left_ID                     int64\n",
       "center_ID                   int64\n",
       "right_ID                    int64\n",
       "graded_pitcher_ID           int64\n",
       "graded_batter_ID            int64\n",
       "dtype: object"
      ]
     },
     "execution_count": 52,
     "metadata": {},
     "output_type": "execute_result"
    }
   ],
   "source": [
    "train_pitch.dtypes"
   ]
  },
  {
   "cell_type": "markdown",
   "metadata": {},
   "source": [
    "## Check null"
   ]
  },
  {
   "cell_type": "markdown",
   "metadata": {},
   "source": [
    "player"
   ]
  },
  {
   "cell_type": "code",
   "execution_count": 53,
   "metadata": {},
   "outputs": [
    {
     "data": {
      "text/plain": [
       "index                          0\n",
       "pitch_type                     0\n",
       "pitch_zone                     0\n",
       "year                           0\n",
       "game_ID                        0\n",
       "game_index                     0\n",
       "pitchs_in_game                 0\n",
       "date                           0\n",
       "time                           0\n",
       "home_ID                        0\n",
       "away_ID                        0\n",
       "park_ID                        0\n",
       "park                           0\n",
       "game_type                      0\n",
       "inning                         0\n",
       "top_or_bottom                  0\n",
       "AB_in_inning                   0\n",
       "pitchs_in_PA                   0\n",
       "pitcher_ID                     0\n",
       "pitcher_team_ID                0\n",
       "pitch                          0\n",
       "pitcher_type                   0\n",
       "pitcher_order                  0\n",
       "batter_in_game                 0\n",
       "pitcher_pitchs_in_game         0\n",
       "pitchs_in_inning               0\n",
       "batter_ID                      0\n",
       "batter_team_ID                 0\n",
       "bat_in_PA                      0\n",
       "batter_order                   0\n",
       "position                       0\n",
       "batter_AB_in_game              0\n",
       "home_runs_before_play          0\n",
       "away_runs_before_play          0\n",
       "outs_before_play               0\n",
       "balls_before_play              0\n",
       "strikes_before_play            0\n",
       "runners_before_play            0\n",
       "first_runner_ID           180448\n",
       "second_runner_ID          206171\n",
       "third_runner_ID           231174\n",
       "catcher_ID                     0\n",
       "first_ID                       0\n",
       "second_ID                      0\n",
       "thied_ID                       0\n",
       "short_ID                       0\n",
       "left_ID                        0\n",
       "center_ID                      0\n",
       "right_ID                       0\n",
       "graded_pitcher_ID              0\n",
       "graded_batter_ID               0\n",
       "dtype: int64"
      ]
     },
     "metadata": {},
     "output_type": "display_data"
    },
    {
     "data": {
      "text/plain": [
       "index                          0\n",
       "year                           0\n",
       "game_ID                        0\n",
       "game_index                     0\n",
       "pitchs_in_game                 0\n",
       "date                           0\n",
       "time                           0\n",
       "home_ID                        0\n",
       "away_ID                        0\n",
       "park_ID                        0\n",
       "park                           0\n",
       "game_type                      0\n",
       "inning                         0\n",
       "top_or_bottom                  0\n",
       "AB_in_inning                   0\n",
       "pitchs_in_PA                   0\n",
       "pitcher_ID                     0\n",
       "pitcher_team_ID                0\n",
       "pitch                          0\n",
       "pitcher_type                   0\n",
       "pitcher_order                  0\n",
       "batter_in_game                 0\n",
       "pitcher_pitchs_in_game         0\n",
       "pitchs_in_inning               0\n",
       "batter_ID                      0\n",
       "batter_team_ID                 0\n",
       "bat_in_PA                      0\n",
       "batter_order                   0\n",
       "position                       0\n",
       "batter_AB_in_game              0\n",
       "home_runs_before_play          0\n",
       "away_runs_before_play          0\n",
       "outs_before_play               0\n",
       "balls_before_play              0\n",
       "strikes_before_play            0\n",
       "runners_before_play            0\n",
       "first_runner_ID           360861\n",
       "second_runner_ID          417995\n",
       "third_runner_ID           468549\n",
       "catcher_ID                     0\n",
       "first_ID                       0\n",
       "second_ID                      0\n",
       "thied_ID                       0\n",
       "short_ID                       0\n",
       "left_ID                        0\n",
       "center_ID                      0\n",
       "right_ID                       0\n",
       "graded_pitcher_ID              0\n",
       "graded_batter_ID               0\n",
       "dtype: int64"
      ]
     },
     "execution_count": 53,
     "metadata": {},
     "output_type": "execute_result"
    }
   ],
   "source": [
    "display(train_pitch.isnull().sum())\n",
    "test_pitch.isnull().sum()"
   ]
  },
  {
   "cell_type": "markdown",
   "metadata": {},
   "source": [
    "train, test共に\"一塁走者ID\", \"二塁走者ID\", \"三塁走者ID\" の列に欠損あり"
   ]
  },
  {
   "cell_type": "markdown",
   "metadata": {},
   "source": [
    "## year"
   ]
  },
  {
   "cell_type": "code",
   "execution_count": 54,
   "metadata": {},
   "outputs": [
    {
     "data": {
      "text/plain": [
       "<matplotlib.axes._subplots.AxesSubplot at 0x13dd0aad0>"
      ]
     },
     "execution_count": 54,
     "metadata": {},
     "output_type": "execute_result"
    },
    {
     "data": {
      "image/png": "[encoded data removed]",
      "text/plain": [
       "<Figure size 432x288 with 1 Axes>"
      ]
     },
     "metadata": {
      "needs_background": "light"
     },
     "output_type": "display_data"
    }
   ],
   "source": [
    "train_pitch[\"year\"].value_counts().plot.bar()"
   ]
  },
  {
   "cell_type": "code",
   "execution_count": 55,
   "metadata": {
    "scrolled": true
   },
   "outputs": [
    {
     "data": {
      "text/plain": [
       "<matplotlib.axes._subplots.AxesSubplot at 0x13d6d94d0>"
      ]
     },
     "execution_count": 55,
     "metadata": {},
     "output_type": "execute_result"
    },
    {
     "data": {
      "image/png": "[encoded data removed]",
      "text/plain": [
       "<Figure size 432x288 with 1 Axes>"
      ]
     },
     "metadata": {
      "needs_background": "light"
     },
     "output_type": "display_data"
    }
   ],
   "source": [
    "test_pitch[\"year\"].value_counts().plot.bar()"
   ]
  },
  {
   "cell_type": "markdown",
   "metadata": {},
   "source": [
    "## game_ID"
   ]
  },
  {
   "cell_type": "code",
   "execution_count": 56,
   "metadata": {},
   "outputs": [
    {
     "data": {
      "text/plain": [
       "858"
      ]
     },
     "execution_count": 56,
     "metadata": {},
     "output_type": "execute_result"
    }
   ],
   "source": [
    "len(train_pitch[\"game_ID\"].unique())"
   ]
  },
  {
   "cell_type": "code",
   "execution_count": 57,
   "metadata": {
    "scrolled": true
   },
   "outputs": [
    {
     "data": {
      "text/plain": [
       "1716"
      ]
     },
     "execution_count": 57,
     "metadata": {},
     "output_type": "execute_result"
    }
   ],
   "source": [
    "len(test_pitch[\"game_ID\"].unique())"
   ]
  },
  {
   "cell_type": "markdown",
   "metadata": {},
   "source": [
    "1チーム1年143試合*1日セパで6試合 = 858試合/年"
   ]
  },
  {
   "cell_type": "markdown",
   "metadata": {},
   "source": [
    "## game_index"
   ]
  },
  {
   "cell_type": "code",
   "execution_count": 58,
   "metadata": {},
   "outputs": [
    {
     "data": {
      "text/plain": [
       "476"
      ]
     },
     "execution_count": 58,
     "metadata": {},
     "output_type": "execute_result"
    }
   ],
   "source": [
    "len(train_pitch[\"game_index\"].unique())"
   ]
  },
  {
   "cell_type": "code",
   "execution_count": 59,
   "metadata": {},
   "outputs": [
    {
     "data": {
      "text/plain": [
       "494"
      ]
     },
     "execution_count": 59,
     "metadata": {},
     "output_type": "execute_result"
    }
   ],
   "source": [
    "len(test_pitch[\"game_index\"].unique())"
   ]
  },
  {
   "cell_type": "markdown",
   "metadata": {},
   "source": [
    "game_IDごとに計算。1事象ごとに加算される値。"
   ]
  },
  {
   "cell_type": "markdown",
   "metadata": {},
   "source": [
    "## pitchs_in_game"
   ]
  },
  {
   "cell_type": "code",
   "execution_count": 61,
   "metadata": {},
   "outputs": [
    {
     "data": {
      "text/plain": [
       "467"
      ]
     },
     "execution_count": 61,
     "metadata": {},
     "output_type": "execute_result"
    }
   ],
   "source": [
    "len(train_pitch[\"pitchs_in_game\"].unique())"
   ]
  },
  {
   "cell_type": "code",
   "execution_count": 62,
   "metadata": {},
   "outputs": [
    {
     "data": {
      "text/plain": [
       "475"
      ]
     },
     "execution_count": 62,
     "metadata": {},
     "output_type": "execute_result"
    }
   ],
   "source": [
    "len(test_pitch[\"pitchs_in_game\"].unique())"
   ]
  },
  {
   "cell_type": "markdown",
   "metadata": {},
   "source": [
    "game_IDごとに計算。1投球ごとに加算される値。"
   ]
  },
  {
   "cell_type": "markdown",
   "metadata": {},
   "source": [
    "## date"
   ]
  },
  {
   "cell_type": "code",
   "execution_count": 63,
   "metadata": {},
   "outputs": [
    {
     "data": {
      "text/plain": [
       "169"
      ]
     },
     "execution_count": 63,
     "metadata": {},
     "output_type": "execute_result"
    }
   ],
   "source": [
    "len(train_pitch[\"date\"].unique())"
   ]
  },
  {
   "cell_type": "code",
   "execution_count": 64,
   "metadata": {},
   "outputs": [
    {
     "data": {
      "text/plain": [
       "336"
      ]
     },
     "execution_count": 64,
     "metadata": {},
     "output_type": "execute_result"
    }
   ],
   "source": [
    "len(test_pitch[\"date\"].unique())"
   ]
  },
  {
   "cell_type": "markdown",
   "metadata": {},
   "source": [
    "## time"
   ]
  },
  {
   "cell_type": "markdown",
   "metadata": {},
   "source": [
    "別notebookにて"
   ]
  },
  {
   "cell_type": "markdown",
   "metadata": {},
   "source": [
    "## home_ID"
   ]
  },
  {
   "cell_type": "code",
   "execution_count": 65,
   "metadata": {},
   "outputs": [
    {
     "data": {
      "text/plain": [
       "<matplotlib.axes._subplots.AxesSubplot at 0x13cffc6d0>"
      ]
     },
     "execution_count": 65,
     "metadata": {},
     "output_type": "execute_result"
    },
    {
     "data": {
      "image/png": "[encoded data removed]",
      "text/plain": [
       "<Figure size 432x288 with 1 Axes>"
      ]
     },
     "metadata": {
      "needs_background": "light"
     },
     "output_type": "display_data"
    }
   ],
   "source": [
    "train_pitch[\"home_ID\"].value_counts().plot.bar()"
   ]
  },
  {
   "cell_type": "code",
   "execution_count": 66,
   "metadata": {},
   "outputs": [
    {
     "data": {
      "text/plain": [
       "<matplotlib.axes._subplots.AxesSubplot at 0x13a29f790>"
      ]
     },
     "execution_count": 66,
     "metadata": {},
     "output_type": "execute_result"
    },
    {
     "data": {
      "image/png": "[encoded data removed]",
      "text/plain": [
       "<Figure size 432x288 with 1 Axes>"
      ]
     },
     "metadata": {
      "needs_background": "light"
     },
     "output_type": "display_data"
    }
   ],
   "source": [
    "test_pitch[\"home_ID\"].value_counts().plot.bar()"
   ]
  },
  {
   "cell_type": "markdown",
   "metadata": {},
   "source": [
    "## away_ID"
   ]
  },
  {
   "cell_type": "code",
   "execution_count": 67,
   "metadata": {},
   "outputs": [
    {
     "data": {
      "text/plain": [
       "<matplotlib.axes._subplots.AxesSubplot at 0x12d2ea410>"
      ]
     },
     "execution_count": 67,
     "metadata": {},
     "output_type": "execute_result"
    },
    {
     "data": {
      "image/png": "[encoded data removed]",
      "text/plain": [
       "<Figure size 432x288 with 1 Axes>"
      ]
     },
     "metadata": {
      "needs_background": "light"
     },
     "output_type": "display_data"
    }
   ],
   "source": [
    "train_pitch[\"away_ID\"].value_counts().plot.bar()"
   ]
  },
  {
   "cell_type": "code",
   "execution_count": 68,
   "metadata": {},
   "outputs": [
    {
     "data": {
      "text/plain": [
       "<matplotlib.axes._subplots.AxesSubplot at 0x12b423dd0>"
      ]
     },
     "execution_count": 68,
     "metadata": {},
     "output_type": "execute_result"
    },
    {
     "data": {
      "image/png": "[encoded data removed]",
      "text/plain": [
       "<Figure size 432x288 with 1 Axes>"
      ]
     },
     "metadata": {
      "needs_background": "light"
     },
     "output_type": "display_data"
    }
   ],
   "source": [
    "test_pitch[\"away_ID\"].value_counts().plot.bar()"
   ]
  },
  {
   "cell_type": "markdown",
   "metadata": {},
   "source": [
    "## park_ID, park"
   ]
  },
  {
   "cell_type": "code",
   "execution_count": 69,
   "metadata": {},
   "outputs": [
    {
     "data": {
      "text/plain": [
       "<matplotlib.axes._subplots.AxesSubplot at 0x115a28090>"
      ]
     },
     "execution_count": 69,
     "metadata": {},
     "output_type": "execute_result"
    },
    {
     "data": {
      "image/png": "[encoded data removed]",
      "text/plain": [
       "<Figure size 432x288 with 1 Axes>"
      ]
     },
     "metadata": {
      "needs_background": "light"
     },
     "output_type": "display_data"
    }
   ],
   "source": [
    "train_pitch[\"park_ID\"].value_counts().plot.bar()"
   ]
  },
  {
   "cell_type": "code",
   "execution_count": 71,
   "metadata": {},
   "outputs": [
    {
     "data": {
      "text/plain": [
       "<matplotlib.axes._subplots.AxesSubplot at 0x1180ad750>"
      ]
     },
     "execution_count": 71,
     "metadata": {},
     "output_type": "execute_result"
    },
    {
     "data": {
      "image/png": "[encoded data removed]",
      "text/plain": [
       "<Figure size 432x288 with 1 Axes>"
      ]
     },
     "metadata": {
      "needs_background": "light"
     },
     "output_type": "display_data"
    }
   ],
   "source": [
    "train_pitch[\"park\"].value_counts().plot.bar()"
   ]
  },
  {
   "cell_type": "code",
   "execution_count": 70,
   "metadata": {},
   "outputs": [
    {
     "data": {
      "text/plain": [
       "<matplotlib.axes._subplots.AxesSubplot at 0x115a1e290>"
      ]
     },
     "execution_count": 70,
     "metadata": {},
     "output_type": "execute_result"
    },
    {
     "data": {
      "image/png": "[encoded data removed]",
      "text/plain": [
       "<Figure size 432x288 with 1 Axes>"
      ]
     },
     "metadata": {
      "needs_background": "light"
     },
     "output_type": "display_data"
    }
   ],
   "source": [
    "test_pitch[\"park_ID\"].value_counts().plot.bar()"
   ]
  },
  {
   "cell_type": "code",
   "execution_count": 72,
   "metadata": {},
   "outputs": [
    {
     "data": {
      "text/plain": [
       "<matplotlib.axes._subplots.AxesSubplot at 0x11819af50>"
      ]
     },
     "execution_count": 72,
     "metadata": {},
     "output_type": "execute_result"
    },
    {
     "data": {
      "image/png": "[encoded data removed]",
      "text/plain": [
       "<Figure size 432x288 with 1 Axes>"
      ]
     },
     "metadata": {
      "needs_background": "light"
     },
     "output_type": "display_data"
    }
   ],
   "source": [
    "test_pitch[\"park\"].value_counts().plot.bar()"
   ]
  },
  {
   "cell_type": "markdown",
   "metadata": {},
   "source": [
    "## game_type"
   ]
  },
  {
   "cell_type": "code",
   "execution_count": 73,
   "metadata": {},
   "outputs": [
    {
     "data": {
      "text/plain": [
       "<matplotlib.axes._subplots.AxesSubplot at 0x1183ffc90>"
      ]
     },
     "execution_count": 73,
     "metadata": {},
     "output_type": "execute_result"
    },
    {
     "data": {
      "image/png": "[encoded data removed]",
      "text/plain": [
       "<Figure size 432x288 with 1 Axes>"
      ]
     },
     "metadata": {
      "needs_background": "light"
     },
     "output_type": "display_data"
    }
   ],
   "source": [
    "train_pitch[\"game_type\"].value_counts().plot.bar()"
   ]
  },
  {
   "cell_type": "code",
   "execution_count": 74,
   "metadata": {},
   "outputs": [
    {
     "data": {
      "text/plain": [
       "<matplotlib.axes._subplots.AxesSubplot at 0x118b829d0>"
      ]
     },
     "execution_count": 74,
     "metadata": {},
     "output_type": "execute_result"
    },
    {
     "data": {
      "image/png": "[encoded data removed]",
      "text/plain": [
       "<Figure size 432x288 with 1 Axes>"
      ]
     },
     "metadata": {
      "needs_background": "light"
     },
     "output_type": "display_data"
    }
   ],
   "source": [
    "test_pitch[\"game_type\"].value_counts().plot.bar()"
   ]
  },
  {
   "cell_type": "markdown",
   "metadata": {},
   "source": [
    "## inning"
   ]
  },
  {
   "cell_type": "code",
   "execution_count": 75,
   "metadata": {},
   "outputs": [
    {
     "data": {
      "text/plain": [
       "<matplotlib.axes._subplots.AxesSubplot at 0x118bc0450>"
      ]
     },
     "execution_count": 75,
     "metadata": {},
     "output_type": "execute_result"
    },
    {
     "data": {
      "image/png": "[encoded data removed]",
      "text/plain": [
       "<Figure size 432x288 with 1 Axes>"
      ]
     },
     "metadata": {
      "needs_background": "light"
     },
     "output_type": "display_data"
    }
   ],
   "source": [
    "train_pitch[\"inning\"].value_counts().plot.bar()"
   ]
  },
  {
   "cell_type": "code",
   "execution_count": 76,
   "metadata": {},
   "outputs": [
    {
     "data": {
      "text/plain": [
       "<matplotlib.axes._subplots.AxesSubplot at 0x1192a0a50>"
      ]
     },
     "execution_count": 76,
     "metadata": {},
     "output_type": "execute_result"
    },
    {
     "data": {
      "image/png": "[encoded data removed]",
      "text/plain": [
       "<Figure size 432x288 with 1 Axes>"
      ]
     },
     "metadata": {
      "needs_background": "light"
     },
     "output_type": "display_data"
    }
   ],
   "source": [
    "test_pitch[\"inning\"].value_counts().plot.bar()"
   ]
  },
  {
   "cell_type": "markdown",
   "metadata": {},
   "source": [
    "## top_or_bottom"
   ]
  },
  {
   "cell_type": "code",
   "execution_count": 77,
   "metadata": {},
   "outputs": [
    {
     "data": {
      "text/plain": [
       "<matplotlib.axes._subplots.AxesSubplot at 0x119cb9c50>"
      ]
     },
     "execution_count": 77,
     "metadata": {},
     "output_type": "execute_result"
    },
    {
     "data": {
      "image/png": "[encoded data removed]",
      "text/plain": [
       "<Figure size 432x288 with 1 Axes>"
      ]
     },
     "metadata": {
      "needs_background": "light"
     },
     "output_type": "display_data"
    }
   ],
   "source": [
    "train_pitch[\"top_or_bottom\"].value_counts().plot.bar()"
   ]
  },
  {
   "cell_type": "code",
   "execution_count": 78,
   "metadata": {},
   "outputs": [
    {
     "data": {
      "text/plain": [
       "<matplotlib.axes._subplots.AxesSubplot at 0x118b8ec10>"
      ]
     },
     "execution_count": 78,
     "metadata": {},
     "output_type": "execute_result"
    },
    {
     "data": {
      "image/png": "[encoded data removed]",
      "text/plain": [
       "<Figure size 432x288 with 1 Axes>"
      ]
     },
     "metadata": {
      "needs_background": "light"
     },
     "output_type": "display_data"
    }
   ],
   "source": [
    "test_pitch[\"top_or_bottom\"].value_counts().plot.bar()"
   ]
  },
  {
   "cell_type": "markdown",
   "metadata": {},
   "source": [
    "## AB_in_inning"
   ]
  },
  {
   "cell_type": "code",
   "execution_count": 79,
   "metadata": {},
   "outputs": [
    {
     "data": {
      "text/plain": [
       "<matplotlib.axes._subplots.AxesSubplot at 0x11a2b9c90>"
      ]
     },
     "execution_count": 79,
     "metadata": {},
     "output_type": "execute_result"
    },
    {
     "data": {
      "image/png": "[encoded data removed]",
      "text/plain": [
       "<Figure size 432x288 with 1 Axes>"
      ]
     },
     "metadata": {
      "needs_background": "light"
     },
     "output_type": "display_data"
    }
   ],
   "source": [
    "train_pitch[\"AB_in_inning\"].value_counts().plot.bar()"
   ]
  },
  {
   "cell_type": "code",
   "execution_count": 80,
   "metadata": {},
   "outputs": [
    {
     "data": {
      "text/plain": [
       "<matplotlib.axes._subplots.AxesSubplot at 0x11a697250>"
      ]
     },
     "execution_count": 80,
     "metadata": {},
     "output_type": "execute_result"
    },
    {
     "data": {
      "image/png": "[encoded data removed]",
      "text/plain": [
       "<Figure size 432x288 with 1 Axes>"
      ]
     },
     "metadata": {
      "needs_background": "light"
     },
     "output_type": "display_data"
    }
   ],
   "source": [
    "test_pitch[\"AB_in_inning\"].value_counts().plot.bar()"
   ]
  },
  {
   "cell_type": "markdown",
   "metadata": {},
   "source": [
    "## pitchs_in_PA"
   ]
  },
  {
   "cell_type": "code",
   "execution_count": 81,
   "metadata": {},
   "outputs": [
    {
     "data": {
      "text/plain": [
       "<matplotlib.axes._subplots.AxesSubplot at 0x11a793710>"
      ]
     },
     "execution_count": 81,
     "metadata": {},
     "output_type": "execute_result"
    },
    {
     "data": {
      "image/png": "[encoded data removed]",
      "text/plain": [
       "<Figure size 432x288 with 1 Axes>"
      ]
     },
     "metadata": {
      "needs_background": "light"
     },
     "output_type": "display_data"
    }
   ],
   "source": [
    "train_pitch[\"pitchs_in_PA\"].value_counts().plot.bar()"
   ]
  },
  {
   "cell_type": "code",
   "execution_count": 82,
   "metadata": {},
   "outputs": [
    {
     "data": {
      "text/plain": [
       "<matplotlib.axes._subplots.AxesSubplot at 0x11a965410>"
      ]
     },
     "execution_count": 82,
     "metadata": {},
     "output_type": "execute_result"
    },
    {
     "data": {
      "image/png": "[encoded data removed]",
      "text/plain": [
       "<Figure size 432x288 with 1 Axes>"
      ]
     },
     "metadata": {
      "needs_background": "light"
     },
     "output_type": "display_data"
    }
   ],
   "source": [
    "test_pitch[\"pitchs_in_PA\"].value_counts().plot.bar()"
   ]
  },
  {
   "cell_type": "markdown",
   "metadata": {},
   "source": [
    "## pitcher_ID"
   ]
  },
  {
   "cell_type": "code",
   "execution_count": 85,
   "metadata": {},
   "outputs": [
    {
     "data": {
      "text/plain": [
       "326"
      ]
     },
     "execution_count": 85,
     "metadata": {},
     "output_type": "execute_result"
    }
   ],
   "source": [
    "len(train_pitch[\"pitcher_ID\"].unique())"
   ]
  },
  {
   "cell_type": "code",
   "execution_count": 86,
   "metadata": {},
   "outputs": [
    {
     "data": {
      "text/plain": [
       "425"
      ]
     },
     "execution_count": 86,
     "metadata": {},
     "output_type": "execute_result"
    }
   ],
   "source": [
    "len(test_pitch[\"pitcher_ID\"].unique())"
   ]
  }
 ],
 "metadata": {
  "kernelspec": {
   "display_name": "Environment (conda_salary_pred)",
   "language": "python",
   "name": "conda_salary_pred"
  },
  "language_info": {
   "codemirror_mode": {
    "name": "ipython",
    "version": 3
   },
   "file_extension": ".py",
   "mimetype": "text/x-python",
   "name": "python",
   "nbconvert_exporter": "python",
   "pygments_lexer": "ipython3",
   "version": "3.7.5"
  }
 },
 "nbformat": 4,
 "nbformat_minor": 4
}
